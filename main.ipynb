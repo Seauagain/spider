{
 "metadata": {
  "language_info": {
   "codemirror_mode": {
    "name": "ipython",
    "version": 3
   },
   "file_extension": ".py",
   "mimetype": "text/x-python",
   "name": "python",
   "nbconvert_exporter": "python",
   "pygments_lexer": "ipython3",
   "version": "3.7"
  },
  "orig_nbformat": 2,
  "kernelspec": {
   "name": "pythonjvsc74a57bd019a29538b3a4042d8cccb072ddc3ca272d8f5c6fce93d0e7a7eb599c97cfb244",
   "display_name": "Python 3.7  ('pytorch': conda)"
  },
  "metadata": {
   "interpreter": {
    "hash": "19a29538b3a4042d8cccb072ddc3ca272d8f5c6fce93d0e7a7eb599c97cfb244"
   }
  }
 },
 "nbformat": 4,
 "nbformat_minor": 2,
 "cells": [
  {
   "source": [
    "## Taobao Tutorial\n",
    "\n",
    "### 0.```要求```\n",
    "关键词：\n",
    "\n",
    "产品种类：面霜、乳液、精华、眼霜、面膜\n",
    "\n",
    "\n",
    "期望程序能够做到的：\n",
    "\n",
    "1.\t将上述关键词输入 淘宝 搜索框，并爬综合榜前三十产品，获取其链接标题+评论。\n",
    "\n",
    "2.\t提取标题中有关产品功效的关键词：（如）保湿、祛痘、祛斑、抗老、修复、美白、补水等\n",
    "\n",
    "3.\t在产品评论中提取所有含有上述标题中功效关键词的分句，统计分句数量及其中正面评价的数量，两者做比，得出消费者对商家宣称的该产品该功能的认可程度\n",
    "\n",
    "4.\t数据生成：包含所选取的商品名称，它的种类、功效，以及其功效认可程度\n",
    "\n",
    "5.\t允许使用者输入自己想要的产品种类和功效，并在生成的数据中检索出相对应的产品，按功效认可程度的高低形成表单，推荐给使用者\n",
    "\n",
    "## 1.``` Requirements```\n",
    "安装依赖库，以pip为例.\n",
    "\n",
    "安装爬虫库```requests```\n",
    "> pip install requests\n",
    "\n",
    "安装数据分析依赖库```numpy``` ```pandas```\n",
    "> pip install numpy\n",
    "\n",
    "> pip install pandas\n",
    "\n",
    "安装自然语言处理库```jieba``` ```snownlp```\n",
    "> pip install jieba\n",
    "\n",
    "> pip install snownlp\n",
    "\n"
   ],
   "cell_type": "markdown",
   "metadata": {}
  },
  {
   "source": [
    "## 2.```Useage```\n",
    "\n",
    "### *爬虫模块* \n",
    "> 爬虫模块报错，需要更新cookie"
   ],
   "cell_type": "markdown",
   "metadata": {}
  },
  {
   "source": [
    "from Spider import Taobao\n",
    "product_name = '面霜'\n",
    "save = True\n",
    "product = Taobao(product_name,ifsave=save)\n",
    "if save:\n",
    "    product.SaveItems()#在目录创建以商品命名的文件夹，并储存淘宝搜索页面的html，以及第一页商品信息productInfo.json"
   ],
   "cell_type": "code",
   "metadata": {},
   "execution_count": null,
   "outputs": []
  },
  {
   "cell_type": "code",
   "execution_count": null,
   "metadata": {},
   "outputs": [],
   "source": []
  },
  {
   "cell_type": "code",
   "execution_count": null,
   "metadata": {},
   "outputs": [],
   "source": [
    "rank =30  # rank=30: 即淘宝综合排序前30，建议1-48，淘宝一页最多48个商品\n",
    "product.SaveAllComments(rank)#保存所有商品的全部评论，保存格式为json;例：comment1.json，数字1表示综合排序第一的商品\n",
    "product.comments2csv(rank)#把comment1.json转为comment1.csv\n"
   ]
  },
  {
   "source": [
    "### *数据分析模块*"
   ],
   "cell_type": "markdown",
   "metadata": {}
  },
  {
   "cell_type": "code",
   "execution_count": 4,
   "metadata": {},
   "outputs": [
    {
     "output_type": "stream",
     "name": "stdout",
     "text": [
      "面膜的热门关键词：['补水', '保湿', '吸收', '水润', '改善', '过敏', '美白', '正品', '滋润', '痘痘']\n",
      "    产品      平台                                            标题  \\\n",
      "23  面膜   tmall                御泥坊修护霜八繁九制面膜霜凝脂霜乳免洗补水高保湿滋润涂抹式女   \n",
      "0   面膜   tmall                          仁和药业补水保湿美白淡斑祛痘淡化痘印面膜   \n",
      "18  面膜   tmall               膜法世家逆时空黑面膜10片抗初老补水保湿二裂酵母紧致淡纹提亮女   \n",
      "14  面膜   tmall                HFP玻尿酸密集补水面膜 修护敏感肌肤保湿滋润SPA面膜男女   \n",
      "25  面膜   tmall                梵西烟酰胺蚕丝面膜女补水保湿玻尿酸收缩毛孔紧致淡痘印男女正品   \n",
      "22  面膜   tmall               520礼物珀莱雅解渴面膜补水保湿睡眠泥膜涂抹式清洁毛孔熬夜修护   \n",
      "24  面膜   tmall              30片jm男士面膜专用美白护肤品补水保湿控油增白去黑头祛痘收毛孔   \n",
      "5   面膜   tmall             Dr.Alva瑷尔博士玻尿酸补水保湿积雪草熬夜面膜舒缓修护男女正品   \n",
      "12  面膜   tmall               【520礼物】欧莱雅安瓶面膜升级版玻尿酸精华补水保湿亮肤15片   \n",
      "28  面膜   tmall               4盒韩国JM面膜女补水保湿美白淡斑祛痘淡化痘印收缩毛孔官方正品   \n",
      "13  面膜   tmall               自然堂喜马拉雅面膜20片补水保湿提亮肌肤收缩毛孔面膜学生女正品   \n",
      "4   面膜   tmall                    玉泽积雪草修护干面膜 玻尿酸补水保湿修护肌肤屏障男女   \n",
      "6   面膜   tmall               韩束水库面膜女玻尿酸补水保湿舒缓30片清洁收缩毛孔急救修复提亮   \n",
      "15  面膜   tmall  Bb LABORATORIES/苾莱宝日本BbLABORATORIES复活草补水面膜清洁   \n",
      "3   面膜   tmall               【年度新品】HFP莱姆果酸炮弹清洁面膜 去黑头刷酸清洁泥膜男女   \n",
      "26  面膜   tmall              薇诺娜透明质酸修护生物膜80g 敷料舒敏保湿面膜复合原液贴霜滋养   \n",
      "17  面膜   tmall               润百颜润养奶皮面膜377精粹提亮肤色玻尿酸补水弹嫩保湿牛奶肌女   \n",
      "16  面膜   tmall         Dermalogica/德美乐嘉水光肌多维面膜75ml去黄急救熬夜涂抹面膜   \n",
      "19  面膜   tmall          日本进口Kracie肌美精进口3D深层补水提亮保湿面膜4片/盒*3盒正品   \n",
      "11  面膜   tmall          韩国JMSOLUTION肌司研水滋养水盈补水保湿面膜JM急救面膜*3套组   \n",
      "8   面膜   tmall              OLAY 抛光面膜水感光曜沁润烟酰胺补水保湿提亮肤色涂抹面膜正品   \n",
      "2   面膜   tmall             【618加购】OLAY抗糖小白瓶面膜水感美白提亮肤色烟酰胺补水面膜   \n",
      "9   面膜   tmall             Dr.Alva瑷尔博士熬夜绷带面膜 补水保湿紧致 舒缓修护男女正品   \n",
      "27  面膜   tmall           farmacy植萃美肌冰感愈颜面膜50ml修护涂抹式冰奶绿面膜夏日晒后   \n",
      "20  面膜   tmall                博乐达水杨酸清洁去痘去黑头闭口粉刺淡化痘印涂抹式刷酸面膜女男   \n",
      "10  面膜   tmall          MEDIHEAL/美迪惠尔韩国可莱丝NMF水库面膜10片补水保湿男女面膜   \n",
      "21  面膜   tmall              【院线面膜】法国美帕壳聚糖修复面膜舒缓泛红冻干粉膜20gX30片   \n",
      "7   面膜  taobao               韩国JM面膜女补水保湿男深水炸水光蜂蜜珍珠急救燕窝水母新款正品   \n",
      "1   面膜   tmall           日本BEAUCLAIR雪美清 酒粕面膜涂抹式清洁补水保湿去角质提亮肤色   \n",
      "\n",
      "                                类别    不油腻 不油腻认可度  \\\n",
      "23                     化妆品净含量:100g  113.0  55.8%   \n",
      "0                       化妆品净含量:20片   45.0  82.2%   \n",
      "18                      化妆品净含量:10片   29.0  62.1%   \n",
      "14                       化妆品净含量:5片   16.0  62.5%   \n",
      "25                      化妆品净含量:20片   14.0  78.6%   \n",
      "22                   化妆品净含量:75g/ml   14.0  35.7%   \n",
      "24    组合套餐:(10片)*1+(10片)*1+(10片)*1   11.0  72.7%   \n",
      "5                       化妆品净含量:10片   11.0  54.5%   \n",
      "12                      化妆品净含量:25片    9.0  66.7%   \n",
      "28  组合套餐:(10片)*2+(10片)*1+(10.0片)*1    8.0  62.5%   \n",
      "13                   化妆品净含量:25g/ml    8.0  50.0%   \n",
      "4                        化妆品净含量:6片    7.0  71.4%   \n",
      "6                       化妆品净含量:30片    7.0  57.1%   \n",
      "15                  化妆品净含量:175g/ml    6.0  33.3%   \n",
      "3                       化妆品净含量:55g    6.0  66.7%   \n",
      "26                             NaN    5.0  60.0%   \n",
      "17                       化妆品净含量:5片    5.0  60.0%   \n",
      "16                     化妆品净含量:75ml    4.0  25.0%   \n",
      "19          组合套餐:(3D橙色—紧致  弹润紧致)*3    2.0  50.0%   \n",
      "11                             NaN    2.0  50.0%   \n",
      "8                      化妆品净含量:100g    1.0   0.0%   \n",
      "2                       化妆品净含量:15片    1.0   0.0%   \n",
      "9                        化妆品净含量:5片    1.0   0.0%   \n",
      "27                     化妆品净含量:50ml    1.0   0.0%   \n",
      "20                      化妆品净含量:35g    1.0   0.0%   \n",
      "10                      化妆品净含量:10片    0.0   0.0%   \n",
      "21                     组合套餐:面膜组合套餐    0.0   0.0%   \n",
      "7      颜色分类:❤新款水母面膜10片/盒[韩国原装假一罚十]    0.0   0.0%   \n",
      "1                      化妆品净含量:170g    0.0   0.0%   \n",
      "\n",
      "                                                 商品链接  \n",
      "23  https://detail.tmall.com/item.htm?id=627874889...  \n",
      "0   https://detail.tmall.com/item.htm?id=592679450...  \n",
      "18  https://detail.tmall.com/item.htm?id=626106598...  \n",
      "14  https://detail.tmall.com/item.htm?id=537458721...  \n",
      "25  https://detail.tmall.com/item.htm?id=613888045...  \n",
      "22  https://detail.tmall.com/item.htm?id=616567613...  \n",
      "24  https://detail.tmall.com/item.htm?id=631705978...  \n",
      "5   https://detail.tmall.com/item.htm?id=605694503...  \n",
      "12  https://detail.tmall.com/item.htm?id=576644195...  \n",
      "28  https://detail.tmall.com/item.htm?id=624251655...  \n",
      "13  https://detail.tmall.com/item.htm?id=556732726...  \n",
      "4   https://detail.tmall.com/item.htm?id=577450003...  \n",
      "6   https://detail.tmall.com/item.htm?id=596258976...  \n",
      "15  https://detail.tmall.com/item.htm?id=560971259...  \n",
      "3   https://detail.tmall.com/item.htm?id=639013372...  \n",
      "26  https://detail.tmall.com/item.htm?id=610869471...  \n",
      "17  https://detail.tmall.com/item.htm?id=622935172...  \n",
      "16  https://detail.tmall.com/item.htm?id=546180556...  \n",
      "19  https://detail.tmall.com/item.htm?id=577001655...  \n",
      "11  https://detail.tmall.com/item.htm?id=625738169...  \n",
      "8   https://detail.tmall.com/item.htm?id=640913131...  \n",
      "2   https://detail.tmall.com/item.htm?id=539379880...  \n",
      "9   https://detail.tmall.com/item.htm?id=637521648...  \n",
      "27  https://detail.tmall.com/item.htm?id=638029926...  \n",
      "20  https://detail.tmall.com/item.htm?id=623918494...  \n",
      "10  https://detail.tmall.com/item.htm?id=599140277...  \n",
      "21  https://detail.tmall.com/item.htm?id=640154929...  \n",
      "7   https://item.taobao.com/item.htm?id=5582159463...  \n",
      "1   https://detail.tmall.com/item.htm?id=620633383...  \n"
     ]
    },
    {
     "output_type": "execute_result",
     "data": {
      "text/plain": [
       "\"\\nuserkey: 使用者想要推荐的某个产品功效，str\\nuserkeys: 使用者关心的功效，list\\nmethod: 排序方法，按照积极评价的人数排序：'approval_num'；按照认可度排序:      'approval_rate'\\norder: 推荐榜前order位，上面的rank是淘宝综合榜\\nprint_csv: 是否打印推荐表单\\nsave_csv: 是否保存推荐表单\\n\""
      ]
     },
     "metadata": {},
     "execution_count": 4
    }
   ],
   "source": [
    "from Spider import Taobao\n",
    "product_name = '面膜'\n",
    "\n",
    "product = Taobao(product_name)\n",
    "\n",
    "order = 30  # order：推荐榜单前**位；order必须小于等于上面的rank\n",
    "\n",
    "userkeys = ['保湿', '补水', '美白', '油皮']  # 输入使用者想要的功效\n",
    "\n",
    "product.Analyze(userkeys, order) #统计功效，分析情感\n",
    "\n",
    "print(product.hotkeys)  # 打印此产品的用户评论热门词，为使用者提供参考\n",
    "\n",
    "product.Show(userkey='不油腻', userkeys=userkeys,\n",
    "             method='approval_num', order=order, print_csv=True, save_csv=True)\n",
    "'''\n",
    "userkey: 使用者想要推荐的某个产品功效，str\n",
    "userkeys: 使用者关心的功效，list\n",
    "method: 排序方法，按照积极评价的人数排序：'approval_num'；按照认可度排序:      'approval_rate'\n",
    "order: 推荐榜前order位，上面的rank是淘宝综合榜\n",
    "print_csv: 是否打印推荐表单\n",
    "save_csv: 是否保存推荐表单\n",
    "'''"
   ]
  },
  {
   "cell_type": "code",
   "execution_count": null,
   "metadata": {},
   "outputs": [],
   "source": []
  },
  {
   "cell_type": "code",
   "execution_count": null,
   "metadata": {},
   "outputs": [],
   "source": []
  }
 ]
}