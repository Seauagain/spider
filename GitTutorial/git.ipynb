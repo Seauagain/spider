{
 "metadata": {
  "language_info": {
   "codemirror_mode": {
    "name": "ipython",
    "version": 3
   },
   "file_extension": ".py",
   "mimetype": "text/x-python",
   "name": "python",
   "nbconvert_exporter": "python",
   "pygments_lexer": "ipython3",
   "version": 3
  },
  "orig_nbformat": 2
 },
 "nbformat": 4,
 "nbformat_minor": 2,
 "cells": [
  {
   "source": [
    "## Git简易教程\n",
    "created by Yuxiao Yi 2021-05-25 \n",
    "\n",
    "参考https://www.liaoxuefeng.com/wiki/896043488029600/896827951938304\n",
    "\n",
    "Git常用命令https://liaoxuefeng.gitee.io/resource.liaoxuefeng.com/git/git-cheat-sheet.html#\n",
    "\n",
    "### 1. Git简介\n",
    "#### 1.1 Git是什么\n",
    "Git是分布式版本管理系统，distributed version control system\n",
    "### 1.2 Git安装\n",
    "最早Git只支持linux和unix，现在移植到多平台，支持win/mac/linux\n",
    "\n",
    "### 2. Git使用\n",
    "#### 2.1 创建版本库\n",
    "* 版本库(repository): 又名仓库，可以简单理解成一个目录，这个目录里面的所有文件都可以被Git管理起来，每个文件的修改、删除，Git都能跟踪，以便任何时刻都可以追踪历史，或者在将来某个时刻可以“还原”.\n",
    "* \n",
    "\n",
    "以linux系统为例，创建版本库。```第一步：创建一个空目录，cd进入目录```\n",
    "> mkdir test\n",
    "\n",
    "> cd test\n",
    "\n",
    "> touch first.py //创建文件\n",
    "\n",
    "```第二步：通过git init命令把这个目录变成Git可以管理的仓库```.\n",
    "> git init\n",
    "当前目录下多了一个.git的目录，这个目录是Git来跟踪管理版本库的，没事千万不要手动修改这个目录里面的文件，不然改乱了，就把Git仓库给破坏了。如果没有看到.git目录，那是因为这个目录默认是隐藏的，用ls -ah命令就可以看见\n",
    "\n"
   ],
   "cell_type": "markdown",
   "metadata": {}
  },
  {
   "cell_type": "code",
   "execution_count": null,
   "metadata": {},
   "outputs": [],
   "source": []
  },
  {
   "cell_type": "code",
   "execution_count": null,
   "metadata": {},
   "outputs": [],
   "source": []
  }
 ]
}